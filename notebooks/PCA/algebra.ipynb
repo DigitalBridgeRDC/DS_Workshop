{
 "cells": [
  {
   "cell_type": "code",
   "execution_count": null,
   "metadata": {},
   "outputs": [],
   "source": []
  },
  {
   "attachments": {},
   "cell_type": "markdown",
   "metadata": {},
   "source": [
    "Given a square matrix $A$, the eigen decomposition of $A$ is given by:\n",
    "\n",
    "$$A = Q\\Lambda Q^{-1}$$\n",
    "\n",
    "where $Q$ is a matrix whose columns are the eigenvectors of $A$, and $\\Lambda$ is a diagonal matrix whose diagonal entries are the corresponding eigenvalues of $A$.\n",
    "\n",
    "The eigenvectors and eigenvalues can be obtained by solving the characteristic equation:\n",
    "\n",
    "$$\\det(A - \\lambda I) = 0$$\n",
    "\n",
    "where $I$ is the identity matrix, and $\\lambda$ is the eigenvalue. The eigenvectors can be found by solving the equation:\n",
    "\n",
    "$$(A - \\lambda I) \\mathbf{v} = \\mathbf{0}$$\n",
    "\n",
    "where $\\mathbf{v}$ is the eigenvector.\n",
    "\n",
    "Once the eigenvectors and eigenvalues are obtained, they can be used to construct the matrix $Q$ and $\\Lambda$ for the eigen decomposition of $A$. Note that $Q$ is not unique, as the eigenvectors can be scaled by any non-zero constant. However, the diagonal entries of $\\Lambda$ are unique and correspond to the eigenvalues of $A$."
   ]
  },
  {
   "attachments": {},
   "cell_type": "markdown",
   "metadata": {},
   "source": [
    "Étant donné une matrice carrée $A$, la décomposition en valeurs propres de $A$ est donnée par :\n",
    "\n",
    "$$A = Q\\Lambda Q^{-1}$$\n",
    "\n",
    "où $Q$ est une matrice dont les colonnes sont les vecteurs propres de $A$, et $\\Lambda$ est une matrice diagonale dont les éléments diagonaux sont les valeurs propres correspondantes de $A$.\n",
    "\n",
    "Les vecteurs propres et les valeurs propres peuvent être obtenus en résolvant l'équation caractéristique :\n",
    "\n",
    "$$\\det(A - \\lambda I) = 0$$\n",
    "\n",
    "où $I$ est la matrice identité, et $\\lambda$ est la valeur propre. Les vecteurs propres peuvent être trouvés en résolvant l'équation :\n",
    "\n",
    "$$(A - \\lambda I) \\mathbf{v} = \\mathbf{0}$$\n",
    "\n",
    "où $\\mathbf{v}$ est le vecteur propre.\n",
    "\n",
    "Une fois les vecteurs propres et les valeurs propres obtenus, ils peuvent être utilisés pour construire les matrices $Q$ et $\\Lambda$ pour la décomposition en valeurs propres de $A$. Notez que $Q$ n'est pas unique, car les vecteurs propres peuvent être multipliés par n'importe quelle constante non nulle. Cependant, les éléments diagonaux de $\\Lambda$ sont uniques et correspondent aux valeurs propres de $A$."
   ]
  },
  {
   "attachments": {},
   "cell_type": "markdown",
   "metadata": {},
   "source": [
    "Certainly! The covariance matrix of a set of $n$ variables $X_1, X_2, ..., X_n$ can be represented by a $n \\times n$ matrix $C$, where the element $C_{ij}$ represents the covariance between $X_i$ and $X_j$. Specifically, $C_{ij}$ is given by:\n",
    "\n",
    "$$C_{ij} = \\frac{1}{N}\\sum_{k=1}^{N}(x_{ik} - \\bar{x}i)(x{jk} - \\bar{x}_j)$$\n",
    "\n",
    "where $N$ is the number of observations, $x_{ik}$ is the value of variable $X_i$ for the $k$th observation, and $\\bar{x}_i$ is the mean of variable $X_i$ across all observations.\n",
    "\n",
    "Now, let $X$ be a $n \\times p$ data matrix, where each row corresponds to an observation and each column corresponds to a variable. We can center the data by subtracting the mean of each variable from each observation, resulting in a new matrix $X_c$. The covariance matrix of the centered data is then given by:\n",
    "\n",
    "$$C = \\frac{1}{N-1} X_c^T X_c$$\n",
    "\n",
    "Now, suppose we perform an eigen decomposition on the covariance matrix $C$:\n",
    "\n",
    "$$C = Q\\Lambda Q^{-1}$$\n",
    "\n",
    "where $Q$ is a matrix whose columns are the eigenvectors of $C$, and $\\Lambda$ is a diagonal matrix whose diagonal entries are the corresponding eigenvalues of $C$.\n",
    "\n",
    "Substituting the eigen decomposition into the expression for the covariance matrix $C$, we get:\n",
    "\n",
    "$$\\frac{1}{N-1} X_c^T X_c = Q\\Lambda Q^{-1}$$\n",
    "\n",
    "Pre-multiplying both sides by $Q$, we get:\n",
    "\n",
    "$$\\frac{1}{N-1} (X_c^T X_c) Q = Q\\Lambda$$\n",
    "\n",
    "This implies that the columns of $Q$ are the eigenvectors of the sample covariance matrix $S = \\frac{1}{N-1} X_c^T X_c$.\n",
    "\n",
    "Thus, we can perform an eigen decomposition on the covariance matrix $C$ to obtain the eigenvectors, which are the principal components of the centered data. These principal components can then be used to transform the data into a lower-dimensional space while retaining most of the variance in the data."
   ]
  }
 ],
 "metadata": {
  "language_info": {
   "name": "python"
  },
  "orig_nbformat": 4
 },
 "nbformat": 4,
 "nbformat_minor": 2
}
