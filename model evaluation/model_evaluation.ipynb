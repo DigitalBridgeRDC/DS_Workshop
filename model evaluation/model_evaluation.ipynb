{
 "cells": [
  {
   "cell_type": "code",
   "execution_count": null,
   "metadata": {},
   "outputs": [],
   "source": [
    "import numpy as np\n",
    "from sklearn.datasets import make_classification\n",
    "from sklearn.model_selection import train_test_split\n",
    "from sklearn.metrics import confusion_matrix, accuracy_score, recall_score, precision_score, f1_score, roc_curve, auc\n",
    "from sklearn.model_selection import KFold, cross_val_score, ShuffleSplit\n",
    "from sklearn.utils import resample\n",
    "from sklearn.linear_model import LogisticRegression\n"
   ]
  },
  {
   "cell_type": "code",
   "execution_count": null,
   "metadata": {},
   "outputs": [],
   "source": [
    "# Generate a synthetic classification dataset\n",
    "X, y = make_classification(n_samples=1000, n_features=5, n_classes=2, random_state=42)\n",
    "\n",
    "# Split the dataset into training and test sets using the holdout method\n",
    "X_train, X_test, y_train, y_test = train_test_split(X, y, test_size=0.2, random_state=42)\n",
    "\n",
    "# Fit a logistic regression model to the training data\n",
    "lr = LogisticRegression(random_state=42).fit(X_train, y_train)\n",
    "\n",
    "# Make predictions on the test data\n",
    "y_pred = lr.predict(X_test)\n"
   ]
  },
  {
   "cell_type": "code",
   "execution_count": null,
   "metadata": {},
   "outputs": [],
   "source": [
    "# Compute the confusion matrix\n",
    "tn, fp, fn, tp = confusion_matrix(y_test, y_pred).ravel()\n",
    "\n",
    "# Compute the model accuracy and error rate\n",
    "accuracy = accuracy_score(y_test, y_pred)\n",
    "error_rate = 1 - accuracy\n",
    "\n",
    "# Compute the kappa statistic\n",
    "observed_agreement = (tp + tn) / len(y_test)\n",
    "chance_agreement = ((tp + fp) / len(y_test)) * ((tp + fn) / len(y_test)) + ((tn + fp) / len(y_test)) * ((tn + fn) / len(y_test))\n",
    "kappa = (observed_agreement - chance_agreement) / (1 - chance_agreement)\n",
    "\n",
    "# Compute sensitivity, specificity, precision, and recall\n",
    "sensitivity = tp / (tp + fn)\n",
    "specificity = tn / (tn + fp)\n",
    "precision = tp / (tp + fp)\n",
    "recall = sensitivity\n",
    "\n",
    "# Compute the F-measure\n",
    "f_measure = f1_score(y_test, y_pred)\n",
    "\n",
    "# Compute the ROC curve and AUC\n",
    "fpr, tpr, thresholds = roc_curve(y_test, lr.predict_proba(X_test)[:, 1])\n",
    "roc_auc = auc(fpr, tpr)\n",
    "\n",
    "# Print all performance metrics\n",
    "print(\"Confusion Matrix:\\n\", np.array([[tn, fp], [fn, tp]]))\n",
    "print(\"Accuracy: {:.3f}\".format(accuracy))\n",
    "print(\"Error Rate: {:.3f}\".format(error_rate))\n",
    "print(\"Kappa Statistic: {:.3f}\".format(kappa))\n",
    "print(\"Sensitivity: {:.3f}\".format(sensitivity))\n",
    "print(\"Specificity: {:.3f}\".format(specificity))\n",
    "print(\"Precision: {:.3f}\".format(precision))\n",
    "print(\"Recall: {:.3f}\".format(recall))\n",
    "print(\"F-measure: {:.3f}\".format(f_measure))\n",
    "print(\"AUC: {:.3f}\".format(roc_auc))\n",
    "\n"
   ]
  },
  {
   "cell_type": "code",
   "execution_count": null,
   "metadata": {},
   "outputs": [],
   "source": [
    "# Split the dataset into training and test sets using k-fold cross-validation\n",
    "kf = KFold(n_splits=5, shuffle=True, random_state=42)\n",
    "for train_index, test_index in kf.split(X):\n",
    "    X_train, X_test = X[train_index], X[test_index]\n",
    "    y_train, y_test = y[train_index], y[test_index]\n",
    "    lr = LogisticRegression(random_state=42).fit(X_train, y_train)\n",
    "    y_pred = lr.predict(X_test)\n",
    "    accuracy = accuracy_score(y_test, y_pred)\n",
    "    print(\"Accuracy: {:.2f}\".format(accuracy))"
   ]
  },
  {
   "cell_type": "code",
   "execution_count": null,
   "metadata": {},
   "outputs": [],
   "source": [
    "# Perform bootstrap sampling on the dataset\n",
    "n_bootstraps = 1000\n",
    "bootstrapped_scores = []\n",
    "rng = np.random.RandomState(42)\n",
    "for i in range(n_bootstraps):\n",
    "    indices = rng.randint(0, len(y), len(y))\n",
    "    X_bootstrapped = X[indices]\n",
    "    y_bootstrapped = y[indices]\n",
    "    lr = LogisticRegression(random_state=42).fit(X_bootstrapped, y_bootstrapped)\n",
    "    y_pred = lr.predict(X_test)\n",
    "    bootstrapped_scores.append(accuracy_score(y_test, y_pred))\n",
    "\n",
    "# Compute the bootstrap confidence interval\n",
    "sorted_scores = np.array(bootstrapped_scores)\n",
    "sorted_scores.sort()\n",
    "lower_bound = sorted_scores[int(0.05 * len(sorted_scores))]\n",
    "upper_bound = sorted_scores[int(0.95 * len(sorted_scores))]\n",
    "print(\"Bootstrap confidence interval (95%): [{:.3f}, {:.3f}]\".format(lower_bound, upper_bound))\n"
   ]
  },
  {
   "cell_type": "code",
   "execution_count": null,
   "metadata": {},
   "outputs": [],
   "source": [
    "# Shuffle the dataset and split it into training and test sets using repeated k-fold cross-validation\n",
    "n_splits = 5\n",
    "n_repeats = 10\n",
    "rs = ShuffleSplit(n_splits=n_splits, test_size=0.2, random_state=42)\n",
    "for i in range(n_repeats):\n",
    "    for train_index, test_index in rs.split(X):\n",
    "        X_train, X_test = X[train_index], X[test_index]\n",
    "        y_train, y_test = y[train_index], y[test_index]\n",
    "        lr = LogisticRegression(random_state=42).fit(X_train, y_train)\n",
    "        y_pred = lr.predict(X_test)\n",
    "        accuracy = accuracy_score(y_test, y_pred)\n",
    "        print(\"Accuracy: {:.2f}\".format(accuracy))\n",
    "\n",
    "# Upsample the minority class using bootstrap sampling\n",
    "X_minority = X[y == 1]\n",
    "y_minority = y[y == 1]\n",
    "X_majority = X[y == 0]\n",
    "y_majority = y[y == 0]\n",
    "n_samples = len(y_majority)\n",
    "X_resampled, y_resampled = resample(X_minority, y_minority, replace=True, n_samples=n_samples, random_state=42)\n",
    "X_balanced = np.concatenate((X_majority, X_resampled))\n",
    "y_balanced = np.concatenate((y_majority, y_resampled))\n"
   ]
  },
  {
   "cell_type": "code",
   "execution_count": null,
   "metadata": {},
   "outputs": [],
   "source": [
    "import matplotlib.pyplot as plt\n",
    "from sklearn.metrics import plot_confusion_matrix\n",
    "\n",
    "# Plot the confusion matrix\n",
    "disp = plot_confusion_matrix(lr, X_test, y_test)\n",
    "disp.ax_.set_title(\"Confusion Matrix\")\n",
    "plt.show()\n",
    "\n",
    "# Plot the ROC curve and AUC\n",
    "plt.figure()\n",
    "plt.plot(fpr, tpr, color='darkorange', lw=2, label='ROC curve (AUC = %0.2f)' % roc_auc)\n",
    "plt.plot([0, 1], [0, 1], color='navy', lw=2, linestyle='--')\n",
    "plt.xlim([0.0, 1.0])\n",
    "plt.ylim([0.0, 1.05])\n",
    "plt.xlabel('False Positive Rate')\n",
    "plt.ylabel('True Positive Rate')\n",
    "plt.title('ROC Curve')\n",
    "plt.legend(loc=\"lower right\")\n",
    "plt.show()"
   ]
  }
 ],
 "metadata": {
  "kernelspec": {
   "display_name": "Python 3",
   "language": "python",
   "name": "python3"
  },
  "language_info": {
   "codemirror_mode": {
    "name": "ipython",
    "version": 3
   },
   "file_extension": ".py",
   "mimetype": "text/x-python",
   "name": "python",
   "nbconvert_exporter": "python",
   "pygments_lexer": "ipython3",
   "version": "3.10.9"
  },
  "orig_nbformat": 4
 },
 "nbformat": 4,
 "nbformat_minor": 2
}
